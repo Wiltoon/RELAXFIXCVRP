{
 "cells": [
  {
   "cell_type": "code",
   "execution_count": 1,
   "id": "613347e7",
   "metadata": {},
   "outputs": [
    {
     "name": "stdout",
     "output_type": "stream",
     "text": [
      "[(0, 1), (0, 2), (0, 3), (1, 0), (1, 2), (1, 3), (2, 0), (2, 1), (2, 3), (3, 0), (3, 1), (3, 2)]\n",
      "Model: buses\n",
      " - number of variables: 13\n",
      "   - binary=12, integer=1, continuous=0\n",
      " - number of constraints: 1\n",
      "   - linear=1\n",
      " - parameters: defaults\n",
      " - objective: minimize\n",
      " - problem type is: MILP\n",
      "Version identifier: 20.1.0.0 | 2020-11-10 | 9bedb6d68\n",
      "CPXPARAM_Read_DataCheck                          1\n",
      "Found incumbent of value 48000.000000 after 0.00 sec. (0.00 ticks)\n",
      "Tried aggregator 1 time.\n",
      "MIP Presolve eliminated 1 rows and 11 columns.\n",
      "MIP Presolve added 1 rows and 1 columns.\n",
      "MIP Presolve modified 1 coefficients.\n",
      "Reduced MIP has 1 rows, 3 columns, and 3 nonzeros.\n",
      "Reduced MIP has 0 binaries, 3 generals, 0 SOSs, and 0 indicators.\n",
      "Presolve time = 0.02 sec. (0.01 ticks)\n",
      "Tried aggregator 1 time.\n",
      "MIP Presolve eliminated 1 rows and 1 columns.\n",
      "MIP Presolve added 1 rows and 1 columns.\n",
      "Reduced MIP has 1 rows, 3 columns, and 3 nonzeros.\n",
      "Reduced MIP has 0 binaries, 3 generals, 0 SOSs, and 0 indicators.\n",
      "Presolve time = 0.00 sec. (0.00 ticks)\n",
      "MIP emphasis: balance optimality and feasibility.\n",
      "MIP search method: dynamic search.\n",
      "Parallel mode: deterministic, using up to 12 threads.\n",
      "Root relaxation solution time = 0.00 sec. (0.00 ticks)\n",
      "\n",
      "        Nodes                                         Cuts/\n",
      "   Node  Left     Objective  IInf  Best Integer    Best Bound    ItCnt     Gap\n",
      "\n",
      "*     0+    0                        48000.0000        0.0000           100.00%\n",
      "*     0+    0                         4000.0000        0.0000           100.00%\n",
      "      0     0     3750.0000     1     4000.0000     3750.0000        1    6.25%\n",
      "      0     0        cutoff           4000.0000                      2    0.00%\n",
      "Elapsed time = 0.02 sec. (0.03 ticks, tree = 0.01 MB, solutions = 2)\n",
      "\n",
      "Root node processing (before b&c):\n",
      "  Real time             =    0.02 sec. (0.03 ticks)\n",
      "Parallel b&c, 12 threads:\n",
      "  Real time             =    0.00 sec. (0.00 ticks)\n",
      "  Sync time (average)   =    0.00 sec.\n",
      "  Wait time (average)   =    0.00 sec.\n",
      "                          ------------\n",
      "Total (root+branch&cut) =    0.02 sec. (0.03 ticks)\n",
      "solution for: buses\n",
      "objective: 4000\n",
      "nbBus40_0_1 = 1\n",
      "nbBus40_0_2 = 1\n",
      "nbBus40_0_3 = 1\n",
      "nbBus40_1_0 = 1\n",
      "nbBus40_1_2 = 1\n",
      "nbBus40_1_3 = 1\n",
      "nbBus40_2_0 = 1\n",
      "nbBus40_2_1 = 1\n",
      "Model: lp_buses\n",
      " - number of variables: 13\n",
      "   - binary=0, integer=0, continuous=13\n",
      " - number of constraints: 1\n",
      "   - linear=1\n",
      " - parameters: defaults\n",
      " - objective: minimize\n",
      " - problem type is: LP\n",
      "Version identifier: 20.1.0.0 | 2020-11-10 | 9bedb6d68\n",
      "CPXPARAM_Read_DataCheck                          1\n",
      "Tried aggregator 1 time.\n",
      "LP Presolve eliminated 0 rows and 11 columns.\n",
      "Reduced LP has 1 rows, 2 columns, and 2 nonzeros.\n",
      "Presolve time = 0.00 sec. (0.00 ticks)\n",
      "\n",
      "Iteration log . . .\n",
      "Iteration:     1   Dual objective     =          3750.000000\n",
      "solution for: lp_buses\n",
      "objective: 3750.000\n",
      "nbBus40_0_1 = 1.000\n",
      "nbBus40_0_2 = 1.000\n",
      "nbBus40_0_3 = 1.000\n",
      "nbBus40_1_0 = 1.000\n",
      "nbBus40_1_2 = 1.000\n",
      "nbBus40_1_3 = 1.000\n",
      "nbBus40_2_0 = 1.000\n",
      "nbBus40_2_1 = 0.500\n",
      "dual of the 300 kids constraint =  12.5\n"
     ]
    }
   ],
   "source": [
    "from docplex.mp.model import Model\n",
    "from docplex.mp.relax_linear import LinearRelaxer\n",
    "\n",
    "def make_bus_model():\n",
    "    mdl = Model(name='buses')\n",
    "    A = [(i,j) for i in range(4) for j in range(4) if i!=j]\n",
    "    print(A)\n",
    "    nbbus40 = mdl.binary_var_dict(A,name='nbBus40')\n",
    "    nbbus30 = mdl.integer_var(name='nbBus30')\n",
    "\n",
    "    mdl.add_constraint(mdl.sum(nbbus40[i,j] * 40 for i,j in A) + nbbus30 * 30 >= 300, 'kids')\n",
    "    mdl.minimize(mdl.sum(nbbus40[i,j] * 500 + nbbus30 * 400 for i,j in A))\n",
    "    return mdl\n",
    "\n",
    "if __name__ == '__main__':\n",
    "    bm1 = make_bus_model()\n",
    "    bm1.print_information()\n",
    "    s1 = bm1.solve(log_output=True)\n",
    "    s1.display()\n",
    "\n",
    "    bmr = LinearRelaxer.make_relaxed_model(bm1, return_partial=True)\n",
    "    bmr.print_information()\n",
    "    rs = bmr.solve(log_output=True)\n",
    "    rs.display()\n",
    "\n",
    "    duals = bmr.get_constraint_by_name(\"kids\").dual_value\n",
    "\n",
    "    print(\"dual of the 300 kids constraint = \",duals) "
   ]
  },
  {
   "cell_type": "code",
   "execution_count": 2,
   "id": "0c138f5e",
   "metadata": {},
   "outputs": [],
   "source": [
    "def alterVariablesFor(mdl, variables, type_wish):\n",
    "    relaxed_model = mdl.copy()\n",
    "    model_name = mdl.name\n",
    "    mdl_class = mdl.__class__\n",
    "    relax_model_name = 'rlx_'+mdl.name\n",
    "    relaxed_model = mdl_class(name=relax_model_name)\n",
    "    # transfer variable containers\n",
    "    ctn_map = {}\n",
    "    for ctn in mdl.iter_var_containers():\n",
    "        copied_ctn = ctn.copy_relaxed(relaxed_model)\n",
    "        ctn_map[ctn] = copied_ctn\n",
    "    # transfer variables    \n",
    "    \n",
    "    var_mapping = {}\n",
    "    for v in mdl.iter_variables():\n",
    "        if v.name in variables:\n",
    "            rx_lb = v.lb\n",
    "            copied_var = relaxed_model._var(type_wish, rx_lb, v.ub, v.name)\n",
    "            var_ctn = v.container\n",
    "            if var_ctn:\n",
    "                copied_ctn = ctn_map.get(var_ctn)\n",
    "                assert copied_ctn is not None\n",
    "                copied_var.container = copied_ctn\n",
    "            var_mapping[v] = copied_var\n",
    "        else:\n",
    "            copied_var = relaxed_model._var(v._vartype, v.lb, v.ub, v.name)\n",
    "            var_ctn = v.container\n",
    "            if var_ctn:\n",
    "                copied_ctn = ctn_map.get(var_ctn)\n",
    "                assert copied_ctn is not None\n",
    "                copied_var.container = copied_ctn\n",
    "            var_mapping[v] = copied_var\n",
    "            \n",
    "    # transfer all non-logical cts\n",
    "    for ct in mdl.iter_constraints():\n",
    "        if not ct.is_generated():\n",
    "            if ct.is_logical():\n",
    "                process_unrelaxable(ct, 'logical')\n",
    "            try:\n",
    "                copied_ct = ct.relaxed_copy(relaxed_model, var_mapping)\n",
    "                relaxed_model.add(copied_ct)\n",
    "            except DocplexLinearRelaxationError as xe:\n",
    "                process_unrelaxable(xe.object, xe.cause)\n",
    "            except KeyError as ke:\n",
    "                info('failed to relax constraint: {0}'.format(ct))\n",
    "                process_unrelaxable(ct, 'key')\n",
    "    # clone objective\n",
    "    relaxed_model.objective_sense = mdl.objective_sense\n",
    "    try:\n",
    "        relaxed_model.objective_expr = mdl.objective_expr.relaxed_copy(relaxed_model, var_mapping)\n",
    "    except DocplexLinearRelaxationError as xe:\n",
    "        process_unrelaxable(urx_=xe.object, reason=xe.cause)\n",
    "    except KeyError:\n",
    "        process_unrelaxable(urx_=mdl.objective_expr, reason='objective')\n",
    "    if mdl.context:\n",
    "        relaxed_model.context = mdl.context.copy()\n",
    "    return relaxed_model"
   ]
  },
  {
   "cell_type": "code",
   "execution_count": 5,
   "id": "8ef04b35",
   "metadata": {},
   "outputs": [],
   "source": [
    "A = [(i,j) for i in range(4) for j in range(4) if i!=j]"
   ]
  },
  {
   "cell_type": "code",
   "execution_count": 4,
   "id": "59658e18",
   "metadata": {},
   "outputs": [
    {
     "name": "stdout",
     "output_type": "stream",
     "text": [
      "Model: buses\n",
      " - number of variables: 13\n",
      "   - binary=12, integer=1, continuous=0\n",
      " - number of constraints: 1\n",
      "   - linear=1\n",
      " - parameters: defaults\n",
      " - objective: minimize\n",
      " - problem type is: MILP\n"
     ]
    }
   ],
   "source": [
    "bm1.print_information()"
   ]
  },
  {
   "cell_type": "code",
   "execution_count": 4,
   "id": "259d2770",
   "metadata": {},
   "outputs": [],
   "source": [
    "variables = ['nbBus40_0_1','nbBus40_0_2','nbBus40_0_3']\n",
    "bmr2 = alterVariablesFor(bm1, variables, bm1.continuous_vartype)"
   ]
  },
  {
   "cell_type": "code",
   "execution_count": 5,
   "id": "6b23661e",
   "metadata": {},
   "outputs": [
    {
     "name": "stdout",
     "output_type": "stream",
     "text": [
      "Model: rlx_buses\n",
      " - number of variables: 13\n",
      "   - binary=9, integer=1, continuous=3\n",
      " - number of constraints: 1\n",
      "   - linear=1\n",
      " - parameters: defaults\n",
      " - objective: minimize\n",
      " - problem type is: MILP\n"
     ]
    }
   ],
   "source": [
    "bmr2.print_information()"
   ]
  },
  {
   "cell_type": "code",
   "execution_count": 8,
   "id": "dd92cd8a",
   "metadata": {},
   "outputs": [],
   "source": [
    "bmi3 = alterVariablesFor(bmr2, variables, bm1.binary_vartype)"
   ]
  },
  {
   "cell_type": "code",
   "execution_count": 9,
   "id": "b66c88ba",
   "metadata": {},
   "outputs": [
    {
     "name": "stdout",
     "output_type": "stream",
     "text": [
      "Model: rlx_rlx_buses\n",
      " - number of variables: 13\n",
      "   - binary=12, integer=1, continuous=0\n",
      " - number of constraints: 1\n",
      "   - linear=1\n",
      " - parameters: defaults\n",
      " - objective: minimize\n",
      " - problem type is: MILP\n"
     ]
    }
   ],
   "source": [
    "bmi3.print_information()"
   ]
  },
  {
   "cell_type": "code",
   "execution_count": 13,
   "id": "97b3bcbe",
   "metadata": {},
   "outputs": [
    {
     "data": {
      "text/plain": [
       "<docplex.mp.vartype.BinaryVarType at 0x2098dd2da30>"
      ]
     },
     "execution_count": 13,
     "metadata": {},
     "output_type": "execute_result"
    }
   ],
   "source": [
    "bm1.binary_vartype"
   ]
  },
  {
   "cell_type": "code",
   "execution_count": null,
   "id": "e98cd95e",
   "metadata": {},
   "outputs": [],
   "source": []
  }
 ],
 "metadata": {
  "kernelspec": {
   "display_name": "Python 3",
   "language": "python",
   "name": "python3"
  },
  "language_info": {
   "codemirror_mode": {
    "name": "ipython",
    "version": 3
   },
   "file_extension": ".py",
   "mimetype": "text/x-python",
   "name": "python",
   "nbconvert_exporter": "python",
   "pygments_lexer": "ipython3",
   "version": "3.8.8"
  }
 },
 "nbformat": 4,
 "nbformat_minor": 5
}
